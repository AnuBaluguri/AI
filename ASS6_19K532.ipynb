{
  "nbformat": 4,
  "nbformat_minor": 0,
  "metadata": {
    "colab": {
      "name": "ASS6_19K532.ipynb",
      "provenance": [],
      "authorship_tag": "ABX9TyNeEWPEgdN5iGhgAgZ5U+2q",
      "include_colab_link": true
    },
    "kernelspec": {
      "name": "python3",
      "display_name": "Python 3"
    },
    "language_info": {
      "name": "python"
    }
  },
  "cells": [
    {
      "cell_type": "markdown",
      "metadata": {
        "id": "view-in-github",
        "colab_type": "text"
      },
      "source": [
        "<a href=\"https://colab.research.google.com/github/AnuBaluguri/AI/blob/main/ASS6_19K532.ipynb\" target=\"_parent\"><img src=\"https://colab.research.google.com/assets/colab-badge.svg\" alt=\"Open In Colab\"/></a>"
      ]
    },
    {
      "cell_type": "code",
      "metadata": {
        "colab": {
          "base_uri": "https://localhost:8080/"
        },
        "id": "O8F1DnLqLWDq",
        "outputId": "07585087-d758-4062-f00e-a37f797e2185"
      },
      "source": [
        "from google.colab import drive\n",
        "drive.mount('/content/drive')"
      ],
      "execution_count": null,
      "outputs": [
        {
          "output_type": "stream",
          "name": "stdout",
          "text": [
            "Mounted at /content/drive\n"
          ]
        }
      ]
    },
    {
      "cell_type": "markdown",
      "metadata": {
        "id": "ZRRiJySTNtOs"
      },
      "source": [
        "# ***Importing Libraries***"
      ]
    },
    {
      "cell_type": "code",
      "metadata": {
        "id": "I4b7hIEENyZ7"
      },
      "source": [
        "import pandas as pd\n",
        "import numpy as np\n",
        "import math as mt\n",
        "import random"
      ],
      "execution_count": null,
      "outputs": []
    },
    {
      "cell_type": "markdown",
      "metadata": {
        "id": "Ih0-K-3GN9xr"
      },
      "source": [
        "# ***Importing Data***"
      ]
    },
    {
      "cell_type": "code",
      "metadata": {
        "colab": {
          "base_uri": "https://localhost:8080/",
          "height": 221
        },
        "id": "0x_zLAQoOCuE",
        "outputId": "2b226887-ef98-4322-ad43-35f8647d937d"
      },
      "source": [
        "data = pd.read_excel(\"/content/drive/MyDrive/slr09.xls\")\n",
        "data.head()"
      ],
      "execution_count": 37,
      "outputs": [
        {
          "output_type": "stream",
          "name": "stdout",
          "text": [
            "*** No CODEPAGE record, no encoding_override: will use 'ascii'\n"
          ]
        },
        {
          "output_type": "execute_result",
          "data": {
            "text/html": [
              "<div>\n",
              "<style scoped>\n",
              "    .dataframe tbody tr th:only-of-type {\n",
              "        vertical-align: middle;\n",
              "    }\n",
              "\n",
              "    .dataframe tbody tr th {\n",
              "        vertical-align: top;\n",
              "    }\n",
              "\n",
              "    .dataframe thead th {\n",
              "        text-align: right;\n",
              "    }\n",
              "</style>\n",
              "<table border=\"1\" class=\"dataframe\">\n",
              "  <thead>\n",
              "    <tr style=\"text-align: right;\">\n",
              "      <th></th>\n",
              "      <th>X</th>\n",
              "      <th>Y</th>\n",
              "    </tr>\n",
              "  </thead>\n",
              "  <tbody>\n",
              "    <tr>\n",
              "      <th>0</th>\n",
              "      <td>7.6</td>\n",
              "      <td>157</td>\n",
              "    </tr>\n",
              "    <tr>\n",
              "      <th>1</th>\n",
              "      <td>7.1</td>\n",
              "      <td>174</td>\n",
              "    </tr>\n",
              "    <tr>\n",
              "      <th>2</th>\n",
              "      <td>8.2</td>\n",
              "      <td>175</td>\n",
              "    </tr>\n",
              "    <tr>\n",
              "      <th>3</th>\n",
              "      <td>7.5</td>\n",
              "      <td>188</td>\n",
              "    </tr>\n",
              "    <tr>\n",
              "      <th>4</th>\n",
              "      <td>7.4</td>\n",
              "      <td>171</td>\n",
              "    </tr>\n",
              "  </tbody>\n",
              "</table>\n",
              "</div>"
            ],
            "text/plain": [
              "     X    Y\n",
              "0  7.6  157\n",
              "1  7.1  174\n",
              "2  8.2  175\n",
              "3  7.5  188\n",
              "4  7.4  171"
            ]
          },
          "metadata": {},
          "execution_count": 37
        }
      ]
    },
    {
      "cell_type": "markdown",
      "metadata": {
        "id": "oHBGRjlKOSGp"
      },
      "source": [
        "# ***Outliers Detection***"
      ]
    },
    {
      "cell_type": "code",
      "metadata": {
        "id": "SNSFcx4vfbH7"
      },
      "source": [
        "outliers=[]\n",
        "def outliers_detection(data):\n",
        "  thres=3\n",
        "  mean=np.mean(data)\n",
        "  std=np.std(data)\n",
        "  for i in data:\n",
        "    z_score=(i-mean)/std\n",
        "    if(np.abs(z_score)>thres):\n",
        "      outliers.append(i)\n",
        "  return outliers"
      ],
      "execution_count": 38,
      "outputs": []
    },
    {
      "cell_type": "code",
      "metadata": {
        "colab": {
          "base_uri": "https://localhost:8080/"
        },
        "id": "tvqXDjdzhJR6",
        "outputId": "7994fcb8-083c-4786-c5e5-f0652ba4be78"
      },
      "source": [
        "outliers_x = outliers_detection(data['X'])\n",
        "outliers_y=outliers_detection(data['Y'])\n",
        "print(\"Outliers in column X(pH value): \",outliers_x)\n",
        "print(\"Outliers in column Y(Bicarbonates): \",outliers_y)"
      ],
      "execution_count": 8,
      "outputs": [
        {
          "output_type": "stream",
          "name": "stdout",
          "text": [
            "Outliers in column X(pH value):  []\n",
            "Outliers in column Y(Bicarbonates):  []\n"
          ]
        }
      ]
    },
    {
      "cell_type": "markdown",
      "metadata": {
        "id": "TnXx2Wz0g5PK"
      },
      "source": [
        "# ***Outliers Treatment***"
      ]
    },
    {
      "cell_type": "code",
      "metadata": {
        "colab": {
          "base_uri": "https://localhost:8080/",
          "height": 1000
        },
        "id": "S2Fv43E-hCSa",
        "outputId": "81cdd225-66bb-4fdd-eb0d-fbcdedf90bf9"
      },
      "source": [
        "from scipy.stats import zscore\n",
        "zx=np.abs(zscore(data['X']))\n",
        "zy=np.abs(zscore(data['Y']))\n",
        "data['z_score_x']=zx\n",
        "data['z_score_y']=zy\n",
        "outliersx=len(data[data['z_score_x']>3])\n",
        "outliersy=len(data[data['z_score_y']>3])\n",
        "data_z = data[data['z_score_x']<3]\n",
        "data=data_z.drop(['z_score_x', 'z_score_y'], axis=1)\n",
        "data"
      ],
      "execution_count": 39,
      "outputs": [
        {
          "output_type": "execute_result",
          "data": {
            "text/html": [
              "<div>\n",
              "<style scoped>\n",
              "    .dataframe tbody tr th:only-of-type {\n",
              "        vertical-align: middle;\n",
              "    }\n",
              "\n",
              "    .dataframe tbody tr th {\n",
              "        vertical-align: top;\n",
              "    }\n",
              "\n",
              "    .dataframe thead th {\n",
              "        text-align: right;\n",
              "    }\n",
              "</style>\n",
              "<table border=\"1\" class=\"dataframe\">\n",
              "  <thead>\n",
              "    <tr style=\"text-align: right;\">\n",
              "      <th></th>\n",
              "      <th>X</th>\n",
              "      <th>Y</th>\n",
              "    </tr>\n",
              "  </thead>\n",
              "  <tbody>\n",
              "    <tr>\n",
              "      <th>0</th>\n",
              "      <td>7.6</td>\n",
              "      <td>157</td>\n",
              "    </tr>\n",
              "    <tr>\n",
              "      <th>1</th>\n",
              "      <td>7.1</td>\n",
              "      <td>174</td>\n",
              "    </tr>\n",
              "    <tr>\n",
              "      <th>2</th>\n",
              "      <td>8.2</td>\n",
              "      <td>175</td>\n",
              "    </tr>\n",
              "    <tr>\n",
              "      <th>3</th>\n",
              "      <td>7.5</td>\n",
              "      <td>188</td>\n",
              "    </tr>\n",
              "    <tr>\n",
              "      <th>4</th>\n",
              "      <td>7.4</td>\n",
              "      <td>171</td>\n",
              "    </tr>\n",
              "    <tr>\n",
              "      <th>5</th>\n",
              "      <td>7.8</td>\n",
              "      <td>143</td>\n",
              "    </tr>\n",
              "    <tr>\n",
              "      <th>6</th>\n",
              "      <td>7.3</td>\n",
              "      <td>217</td>\n",
              "    </tr>\n",
              "    <tr>\n",
              "      <th>7</th>\n",
              "      <td>8.0</td>\n",
              "      <td>190</td>\n",
              "    </tr>\n",
              "    <tr>\n",
              "      <th>8</th>\n",
              "      <td>7.1</td>\n",
              "      <td>142</td>\n",
              "    </tr>\n",
              "    <tr>\n",
              "      <th>9</th>\n",
              "      <td>7.5</td>\n",
              "      <td>190</td>\n",
              "    </tr>\n",
              "    <tr>\n",
              "      <th>10</th>\n",
              "      <td>8.1</td>\n",
              "      <td>215</td>\n",
              "    </tr>\n",
              "    <tr>\n",
              "      <th>11</th>\n",
              "      <td>7.0</td>\n",
              "      <td>199</td>\n",
              "    </tr>\n",
              "    <tr>\n",
              "      <th>12</th>\n",
              "      <td>7.3</td>\n",
              "      <td>262</td>\n",
              "    </tr>\n",
              "    <tr>\n",
              "      <th>13</th>\n",
              "      <td>7.8</td>\n",
              "      <td>105</td>\n",
              "    </tr>\n",
              "    <tr>\n",
              "      <th>14</th>\n",
              "      <td>7.3</td>\n",
              "      <td>121</td>\n",
              "    </tr>\n",
              "    <tr>\n",
              "      <th>15</th>\n",
              "      <td>8.0</td>\n",
              "      <td>81</td>\n",
              "    </tr>\n",
              "    <tr>\n",
              "      <th>16</th>\n",
              "      <td>8.5</td>\n",
              "      <td>82</td>\n",
              "    </tr>\n",
              "    <tr>\n",
              "      <th>17</th>\n",
              "      <td>7.1</td>\n",
              "      <td>210</td>\n",
              "    </tr>\n",
              "    <tr>\n",
              "      <th>18</th>\n",
              "      <td>8.2</td>\n",
              "      <td>202</td>\n",
              "    </tr>\n",
              "    <tr>\n",
              "      <th>19</th>\n",
              "      <td>7.9</td>\n",
              "      <td>155</td>\n",
              "    </tr>\n",
              "    <tr>\n",
              "      <th>20</th>\n",
              "      <td>7.6</td>\n",
              "      <td>157</td>\n",
              "    </tr>\n",
              "    <tr>\n",
              "      <th>21</th>\n",
              "      <td>8.8</td>\n",
              "      <td>147</td>\n",
              "    </tr>\n",
              "    <tr>\n",
              "      <th>22</th>\n",
              "      <td>7.2</td>\n",
              "      <td>133</td>\n",
              "    </tr>\n",
              "    <tr>\n",
              "      <th>23</th>\n",
              "      <td>7.9</td>\n",
              "      <td>53</td>\n",
              "    </tr>\n",
              "    <tr>\n",
              "      <th>24</th>\n",
              "      <td>8.1</td>\n",
              "      <td>56</td>\n",
              "    </tr>\n",
              "    <tr>\n",
              "      <th>25</th>\n",
              "      <td>7.7</td>\n",
              "      <td>113</td>\n",
              "    </tr>\n",
              "    <tr>\n",
              "      <th>26</th>\n",
              "      <td>8.4</td>\n",
              "      <td>35</td>\n",
              "    </tr>\n",
              "    <tr>\n",
              "      <th>27</th>\n",
              "      <td>7.4</td>\n",
              "      <td>125</td>\n",
              "    </tr>\n",
              "    <tr>\n",
              "      <th>28</th>\n",
              "      <td>7.3</td>\n",
              "      <td>76</td>\n",
              "    </tr>\n",
              "    <tr>\n",
              "      <th>29</th>\n",
              "      <td>8.5</td>\n",
              "      <td>48</td>\n",
              "    </tr>\n",
              "    <tr>\n",
              "      <th>30</th>\n",
              "      <td>7.8</td>\n",
              "      <td>147</td>\n",
              "    </tr>\n",
              "    <tr>\n",
              "      <th>31</th>\n",
              "      <td>6.7</td>\n",
              "      <td>117</td>\n",
              "    </tr>\n",
              "    <tr>\n",
              "      <th>32</th>\n",
              "      <td>7.1</td>\n",
              "      <td>182</td>\n",
              "    </tr>\n",
              "    <tr>\n",
              "      <th>33</th>\n",
              "      <td>7.3</td>\n",
              "      <td>87</td>\n",
              "    </tr>\n",
              "  </tbody>\n",
              "</table>\n",
              "</div>"
            ],
            "text/plain": [
              "      X    Y\n",
              "0   7.6  157\n",
              "1   7.1  174\n",
              "2   8.2  175\n",
              "3   7.5  188\n",
              "4   7.4  171\n",
              "5   7.8  143\n",
              "6   7.3  217\n",
              "7   8.0  190\n",
              "8   7.1  142\n",
              "9   7.5  190\n",
              "10  8.1  215\n",
              "11  7.0  199\n",
              "12  7.3  262\n",
              "13  7.8  105\n",
              "14  7.3  121\n",
              "15  8.0   81\n",
              "16  8.5   82\n",
              "17  7.1  210\n",
              "18  8.2  202\n",
              "19  7.9  155\n",
              "20  7.6  157\n",
              "21  8.8  147\n",
              "22  7.2  133\n",
              "23  7.9   53\n",
              "24  8.1   56\n",
              "25  7.7  113\n",
              "26  8.4   35\n",
              "27  7.4  125\n",
              "28  7.3   76\n",
              "29  8.5   48\n",
              "30  7.8  147\n",
              "31  6.7  117\n",
              "32  7.1  182\n",
              "33  7.3   87"
            ]
          },
          "metadata": {},
          "execution_count": 39
        }
      ]
    },
    {
      "cell_type": "markdown",
      "metadata": {
        "id": "KQja1fEPjN9f"
      },
      "source": [
        "# ***Missing Value Treatment***"
      ]
    },
    {
      "cell_type": "code",
      "metadata": {
        "colab": {
          "base_uri": "https://localhost:8080/"
        },
        "id": "azuzdLJljSbw",
        "outputId": "e33f4a6c-f758-4d3b-caba-d392ad35352c"
      },
      "source": [
        "print(data.isnull().sum())"
      ],
      "execution_count": 14,
      "outputs": [
        {
          "output_type": "stream",
          "name": "stdout",
          "text": [
            "X    0\n",
            "Y    0\n",
            "dtype: int64\n"
          ]
        }
      ]
    },
    {
      "cell_type": "code",
      "metadata": {
        "id": "4C7eriyKjhOm"
      },
      "source": [
        "m1=data['X'].mean\n",
        "m2=data['Y'].mean\n",
        "data['X'].fillna(value=m1,inplace=True)\n",
        "data['Y'].fillna(value=m2,inplace=True)\n",
        "data"
      ],
      "execution_count": null,
      "outputs": []
    },
    {
      "cell_type": "markdown",
      "metadata": {
        "id": "i06_GkHLkXXt"
      },
      "source": [
        "# ***Data Splitting***"
      ]
    },
    {
      "cell_type": "code",
      "metadata": {
        "id": "E1w1H1EMkazU"
      },
      "source": [
        "from sklearn.model_selection import train_test_split\n",
        "x_train,x_test,y_train,y_test=train_test_split(data.X,data.Y,test_size=0.50,random_state=10)\n"
      ],
      "execution_count": 19,
      "outputs": []
    },
    {
      "cell_type": "markdown",
      "metadata": {
        "id": "M7Jgq90ak4h1"
      },
      "source": [
        "# ***Intialization***"
      ]
    },
    {
      "cell_type": "code",
      "metadata": {
        "id": "JQoi-P5jk7cm"
      },
      "source": [
        "m1=random.uniform(-1,1)\n",
        "m2=random.uniform(-1,1)\n",
        "c=random.uniform(-1,1)\n",
        "eta=0.0001\n",
        "max_iter=10"
      ],
      "execution_count": 20,
      "outputs": []
    },
    {
      "cell_type": "markdown",
      "metadata": {
        "id": "4VXTXLUmlYES"
      },
      "source": [
        "# ***Gradient Calculation***"
      ]
    },
    {
      "cell_type": "code",
      "metadata": {
        "id": "-fQAg7Cwlbxi"
      },
      "source": [
        "def gradient(m1,m2,c,x,y):\n",
        "  m1_deriv=-1*(y-m1*x*x-m2*x-c)*x*x\n",
        "  m2_deriv=-1*(y-m1*x*x-m2*x-c)*x\n",
        "  c_deriv=-1*(y-m1*x*x-m2*x-c)\n",
        "  return m1_deriv,m2_deriv,c_deriv"
      ],
      "execution_count": 29,
      "outputs": []
    },
    {
      "cell_type": "markdown",
      "metadata": {
        "id": "hSXu0fvIrPWZ"
      },
      "source": [
        "# ***Training Using Stochastic Gradient Descent Optimizer***"
      ]
    },
    {
      "cell_type": "code",
      "metadata": {
        "colab": {
          "base_uri": "https://localhost:8080/"
        },
        "id": "TWtNfCSUrb6B",
        "outputId": "43f71834-5313-447e-b371-f6b0bba5d10c"
      },
      "source": [
        "for iter in range(max_iter):\n",
        "  for sample in range(x_train.shape[0]):\n",
        "    del_m1,del_m2,del_c=gradient(m1, m2, c, x_train.iloc[sample], y_train.iloc[sample])\n",
        "    m1=m1-(eta)*del_m1\n",
        "    m2=m2-(eta)*del_m2\n",
        "    c=c-(eta)*del_c\n",
        "print(\"Model Parameters m1, m2 and c : \",m1,m2,c)"
      ],
      "execution_count": 40,
      "outputs": [
        {
          "output_type": "stream",
          "name": "stdout",
          "text": [
            "Model Parameters m1, m2 and c :  2.37756111212204 0.48441521776662666 0.6804119799960171\n"
          ]
        }
      ]
    },
    {
      "cell_type": "markdown",
      "metadata": {
        "id": "pnRSukF0umlm"
      },
      "source": [
        "# ***Model Prediction On Training Data***"
      ]
    },
    {
      "cell_type": "code",
      "metadata": {
        "id": "ZWrRSgIyurjp"
      },
      "source": [
        "y_pred_train=[]\n",
        "for i in x_train:\n",
        "  y_pr_tr=(m1*i*i)+m2*i+c\n",
        "  y_pred_train.append(y_pr_tr)\n",
        "y_pred_train=np.array(y_pred_train)"
      ],
      "execution_count": 32,
      "outputs": []
    },
    {
      "cell_type": "markdown",
      "metadata": {
        "id": "YlSSf8J1vWzH"
      },
      "source": [
        "# ***Model Prediction On Testing Data***"
      ]
    },
    {
      "cell_type": "code",
      "metadata": {
        "id": "_OqWHo2zvbQn"
      },
      "source": [
        "y_pred_test=[]\n",
        "for i in x_test:\n",
        "  y_pr_ts=(m1*i*i)+m2*i+c\n",
        "  y_pred_test.append(y_pr_ts)\n",
        "y_pred_train=np.array(y_pred_test)"
      ],
      "execution_count": 33,
      "outputs": []
    },
    {
      "cell_type": "markdown",
      "metadata": {
        "id": "o5f-g267v8Tm"
      },
      "source": [
        "# ***Error Metrics Calculation***"
      ]
    },
    {
      "cell_type": "code",
      "metadata": {
        "colab": {
          "base_uri": "https://localhost:8080/"
        },
        "id": "TwxQjgUhwAcn",
        "outputId": "b46a0ac1-f3ec-40f5-f717-5d03d27de902"
      },
      "source": [
        "import math\n",
        "from sklearn.metrics import mean_squared_error\n",
        "from sklearn.metrics import mean_absolute_error\n",
        "rmse=math.sqrt(mean_squared_error(y_train,y_pred_train))\n",
        "print(\"Root mean square error: \",rmse)\n",
        "mse=mean_squared_error(y_train,y_pred_train)\n",
        "print(\"Mean square error: \",mse)\n",
        "mae=mean_absolute_error(y_train,y_pred_train)\n",
        "print(\"Mean absolute error: \",mae)"
      ],
      "execution_count": 34,
      "outputs": [
        {
          "output_type": "stream",
          "name": "stdout",
          "text": [
            "Root mean square error:  60.86793682138679\n",
            "Mean square error:  3704.905732892334\n",
            "Mean absolute error:  50.34278072733047\n"
          ]
        }
      ]
    },
    {
      "cell_type": "code",
      "metadata": {
        "colab": {
          "base_uri": "https://localhost:8080/"
        },
        "id": "A0uCdK5Xw5cX",
        "outputId": "0f8823ab-dd0e-404f-b18d-505ac30b4f08"
      },
      "source": [
        "#testing\n",
        "rmse=math.sqrt(mean_squared_error(y_test,y_pred_test))\n",
        "print(\"Root mean square error: \",rmse)\n",
        "mse=mean_squared_error(y_test,y_pred_test)\n",
        "print(\"Mean square error: \",mse)\n",
        "mae=mean_absolute_error(y_test,y_pred_test)\n",
        "print(\"Mean absolute error: \",mae)"
      ],
      "execution_count": 35,
      "outputs": [
        {
          "output_type": "stream",
          "name": "stdout",
          "text": [
            "Root mean square error:  65.34501190564629\n",
            "Mean square error:  4269.970580949056\n",
            "Mean absolute error:  52.215210058327145\n"
          ]
        }
      ]
    },
    {
      "cell_type": "markdown",
      "metadata": {
        "id": "MHicqNcHxMhN"
      },
      "source": [
        "# ***Deployment***"
      ]
    },
    {
      "cell_type": "code",
      "metadata": {
        "colab": {
          "base_uri": "https://localhost:8080/"
        },
        "id": "tXA0WrqBxQmM",
        "outputId": "81f5392e-5d4d-43d9-82ae-36d963a2c160"
      },
      "source": [
        "x=input(\"Enter pH value of well water: \")\n",
        "bicarbonates=m1*float(x)*float(x)+m2*float(x)+c\n",
        "print(\"Bicarbonates of well water: \",bicarbonates)"
      ],
      "execution_count": 36,
      "outputs": [
        {
          "output_type": "stream",
          "name": "stdout",
          "text": [
            "Enter pH value of well water: 5\n",
            "Bicarbonates of well water:  61.96028698208825\n"
          ]
        }
      ]
    }
  ]
}