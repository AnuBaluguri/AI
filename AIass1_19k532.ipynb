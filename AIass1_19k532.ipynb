{
  "nbformat": 4,
  "nbformat_minor": 0,
  "metadata": {
    "colab": {
      "name": "AIass1-19k532.ipynb",
      "provenance": [],
      "collapsed_sections": [],
      "authorship_tag": "ABX9TyMsXwvNM8df3+5c/8eE3phs",
      "include_colab_link": true
    },
    "kernelspec": {
      "name": "python3",
      "display_name": "Python 3"
    },
    "language_info": {
      "name": "python"
    }
  },
  "cells": [
    {
      "cell_type": "markdown",
      "metadata": {
        "id": "view-in-github",
        "colab_type": "text"
      },
      "source": [
        "<a href=\"https://colab.research.google.com/github/AnuBaluguri/AI/blob/main/AIass1_19k532.ipynb\" target=\"_parent\"><img src=\"https://colab.research.google.com/assets/colab-badge.svg\" alt=\"Open In Colab\"/></a>"
      ]
    },
    {
      "cell_type": "code",
      "metadata": {
        "colab": {
          "base_uri": "https://localhost:8080/"
        },
        "id": "4WXaaWmEMvNR",
        "outputId": "97060c92-503f-407e-a250-cd1a2dbbd79d"
      },
      "source": [
        "from scipy.optimize import linprog\n",
        "obj=[-50,-100]\n",
        "coeff=[[7000,2000],[10,30]]\n",
        "const=[700000,1200]\n",
        "boundary=[(0,float('inf')),(0,float('inf'))]\n",
        "opt=linprog(c=obj,A_ub=coeff,b_ub=const,A_eq=None,b_eq=None,bounds=boundary,method='Simplex')\n",
        "print('No of wheat plants should be planted per hectare : ',round(opt.x[0]))\n",
        "print('No of barley plants should be planted per hectare : ',round(opt.x[1]))"
      ],
      "execution_count": null,
      "outputs": [
        {
          "output_type": "stream",
          "text": [
            "No of wheat plants should be planted per hectare :  98\n",
            "No of barley plants should be planted per hectare :  7\n"
          ],
          "name": "stdout"
        }
      ]
    }
  ]
}