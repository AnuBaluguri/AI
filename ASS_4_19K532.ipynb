{
  "nbformat": 4,
  "nbformat_minor": 0,
  "metadata": {
    "colab": {
      "name": "ASS-4.ipynb",
      "provenance": [],
      "authorship_tag": "ABX9TyML92x6LMiBur8FVlUvj48C",
      "include_colab_link": true
    },
    "kernelspec": {
      "name": "python3",
      "display_name": "Python 3"
    },
    "language_info": {
      "name": "python"
    }
  },
  "cells": [
    {
      "cell_type": "markdown",
      "metadata": {
        "id": "view-in-github",
        "colab_type": "text"
      },
      "source": [
        "<a href=\"https://colab.research.google.com/github/AnuBaluguri/AI/blob/main/ASS_4_19K532.ipynb\" target=\"_parent\"><img src=\"https://colab.research.google.com/assets/colab-badge.svg\" alt=\"Open In Colab\"/></a>"
      ]
    },
    {
      "cell_type": "code",
      "metadata": {
        "colab": {
          "base_uri": "https://localhost:8080/"
        },
        "id": "MvzCFBpOh7Jm",
        "outputId": "4d8f9bc6-c697-4fdf-dba7-3d63c1f7a406"
      },
      "source": [
        "from google.colab import drive\n",
        "drive.mount('/content/drive')"
      ],
      "execution_count": 2,
      "outputs": [
        {
          "output_type": "stream",
          "name": "stdout",
          "text": [
            "Mounted at /content/drive\n"
          ]
        }
      ]
    },
    {
      "cell_type": "markdown",
      "metadata": {
        "id": "vXOcsXRzkl94"
      },
      "source": [
        "**IMPORRING LIBRARIES**"
      ]
    },
    {
      "cell_type": "code",
      "metadata": {
        "id": "x8wdX0Hwj8xT"
      },
      "source": [
        "import numpy as np\n",
        "import math as mt\n",
        "import random\n",
        "import pandas as pd"
      ],
      "execution_count": 3,
      "outputs": []
    },
    {
      "cell_type": "markdown",
      "metadata": {
        "id": "UxeNowg1lAup"
      },
      "source": [
        "**IMPORTING** **DATA**\n"
      ]
    },
    {
      "cell_type": "code",
      "metadata": {
        "colab": {
          "base_uri": "https://localhost:8080/",
          "height": 221
        },
        "id": "d6wL1AlTlPOw",
        "outputId": "11acbf91-c8c9-4e9e-fb83-9ad770594e89"
      },
      "source": [
        "data = pd.read_excel('/content/drive/MyDrive/slr09.xls')\n",
        "data.head()"
      ],
      "execution_count": 4,
      "outputs": [
        {
          "output_type": "stream",
          "name": "stdout",
          "text": [
            "*** No CODEPAGE record, no encoding_override: will use 'ascii'\n"
          ]
        },
        {
          "output_type": "execute_result",
          "data": {
            "text/html": [
              "<div>\n",
              "<style scoped>\n",
              "    .dataframe tbody tr th:only-of-type {\n",
              "        vertical-align: middle;\n",
              "    }\n",
              "\n",
              "    .dataframe tbody tr th {\n",
              "        vertical-align: top;\n",
              "    }\n",
              "\n",
              "    .dataframe thead th {\n",
              "        text-align: right;\n",
              "    }\n",
              "</style>\n",
              "<table border=\"1\" class=\"dataframe\">\n",
              "  <thead>\n",
              "    <tr style=\"text-align: right;\">\n",
              "      <th></th>\n",
              "      <th>X</th>\n",
              "      <th>Y</th>\n",
              "    </tr>\n",
              "  </thead>\n",
              "  <tbody>\n",
              "    <tr>\n",
              "      <th>0</th>\n",
              "      <td>7.6</td>\n",
              "      <td>157</td>\n",
              "    </tr>\n",
              "    <tr>\n",
              "      <th>1</th>\n",
              "      <td>7.1</td>\n",
              "      <td>174</td>\n",
              "    </tr>\n",
              "    <tr>\n",
              "      <th>2</th>\n",
              "      <td>8.2</td>\n",
              "      <td>175</td>\n",
              "    </tr>\n",
              "    <tr>\n",
              "      <th>3</th>\n",
              "      <td>7.5</td>\n",
              "      <td>188</td>\n",
              "    </tr>\n",
              "    <tr>\n",
              "      <th>4</th>\n",
              "      <td>7.4</td>\n",
              "      <td>171</td>\n",
              "    </tr>\n",
              "  </tbody>\n",
              "</table>\n",
              "</div>"
            ],
            "text/plain": [
              "     X    Y\n",
              "0  7.6  157\n",
              "1  7.1  174\n",
              "2  8.2  175\n",
              "3  7.5  188\n",
              "4  7.4  171"
            ]
          },
          "metadata": {},
          "execution_count": 4
        }
      ]
    },
    {
      "cell_type": "markdown",
      "metadata": {
        "id": "PcwucS3Jncd4"
      },
      "source": [
        "***Outliers Treatment***"
      ]
    },
    {
      "cell_type": "code",
      "metadata": {
        "id": "H_UUSiLNnsor"
      },
      "source": [
        "outliers = []\n",
        "def detect_outliers(data) :\n",
        "    thres=3\n",
        "    mean = np.mean(data)\n",
        "    std = np.std(data);\n",
        "    for i in data:\n",
        "      z_score = (i-mean)/std\n",
        "      if(np.abs(z_score)>thres):\n",
        "          outliers.append(i)\n",
        "    return outliers"
      ],
      "execution_count": 5,
      "outputs": []
    },
    {
      "cell_type": "code",
      "metadata": {
        "colab": {
          "base_uri": "https://localhost:8080/"
        },
        "id": "1LiSBsEco63-",
        "outputId": "d6e261f1-1d88-4183-ce9a-ea970e6f104b"
      },
      "source": [
        "outliers_X=detect_outliers(data['X'])\n",
        "outliers_Y=detect_outliers(data['Y'])\n",
        "print(\"Outliers in column X from Z_Score method : \",outliers_X)\n",
        "print(\"Outliers in column Y from Z_Score method : \",outliers_Y)"
      ],
      "execution_count": 6,
      "outputs": [
        {
          "output_type": "stream",
          "name": "stdout",
          "text": [
            "Outliers in column X from Z_Score method :  []\n",
            "Outliers in column Y from Z_Score method :  []\n"
          ]
        }
      ]
    },
    {
      "cell_type": "markdown",
      "metadata": {
        "id": "RUOz8HjDpqKo"
      },
      "source": [
        "***Missing Values Treatment***"
      ]
    },
    {
      "cell_type": "code",
      "metadata": {
        "colab": {
          "base_uri": "https://localhost:8080/"
        },
        "id": "ugN3DqA4pyFh",
        "outputId": "25f503d9-ca79-4e8a-c101-51aa03fc5280"
      },
      "source": [
        "print(data.isnull().sum())"
      ],
      "execution_count": 7,
      "outputs": [
        {
          "output_type": "stream",
          "name": "stdout",
          "text": [
            "X    0\n",
            "Y    0\n",
            "dtype: int64\n"
          ]
        }
      ]
    },
    {
      "cell_type": "code",
      "metadata": {
        "id": "Vr_3rhQcp8Bz"
      },
      "source": [
        "m1=np.mean(data['X'])\n",
        "m2=np.mean(data['Y'])\n",
        "data['X'].fillna(value=m1,inplace=True)\n",
        "data['Y'].fillna(value=m2,inplace=True)\n"
      ],
      "execution_count": 9,
      "outputs": []
    },
    {
      "cell_type": "markdown",
      "metadata": {
        "id": "a4P7YCdmtBLe"
      },
      "source": [
        "***Data Split***"
      ]
    },
    {
      "cell_type": "code",
      "metadata": {
        "id": "piPEbVLVtHF0"
      },
      "source": [
        "from sklearn.model_selection import train_test_split\n",
        "x_train,x_test,y_train,y_test=train_test_split(data.X,data.Y,test_size=0.50,random_state=10)\n",
        "#y_train"
      ],
      "execution_count": 10,
      "outputs": []
    },
    {
      "cell_type": "markdown",
      "metadata": {
        "id": "gxWn3KHUuUHT"
      },
      "source": [
        "***Initialization***"
      ]
    },
    {
      "cell_type": "code",
      "metadata": {
        "id": "rPjmCrnDuaL9"
      },
      "source": [
        "m=random.uniform(-0.1,0.1)\n",
        "c=random.uniform(-0.1,0.1)\n",
        "max_iter=1000\n",
        "eta=0.01"
      ],
      "execution_count": 49,
      "outputs": []
    },
    {
      "cell_type": "markdown",
      "metadata": {
        "id": "AqNMZ8GdupPb"
      },
      "source": [
        "# ***Gradient Calculation***"
      ]
    },
    {
      "cell_type": "code",
      "metadata": {
        "id": "06jdX1BSu5sQ"
      },
      "source": [
        "def gradient(m,c,x,y):\n",
        "  m_deriv=-1*(y-m*x-c)*x\n",
        "  c_deriv=-1*(y-m*x-c)\n",
        "  return m_deriv,c_deriv"
      ],
      "execution_count": 45,
      "outputs": []
    },
    {
      "cell_type": "markdown",
      "metadata": {
        "id": "0yU1RpT1vatu"
      },
      "source": [
        "# **Training Using Sochastic Gradient Descent Optimization**"
      ]
    },
    {
      "cell_type": "code",
      "metadata": {
        "colab": {
          "base_uri": "https://localhost:8080/"
        },
        "id": "sBPV0kMKvoH1",
        "outputId": "feecf9db-e897-4fc9-a83c-6679b1a904b5"
      },
      "source": [
        "for iter in range(max_iter):\n",
        "  for sample in range(x_train.shape[0]):\n",
        "    del_m,del_c=gradient(m, c, x_train.iloc[sample], y_train.iloc[sample])\n",
        "    m=m-eta*del_m\n",
        "    c=c-eta*del_c\n",
        "    \n",
        "print('model parameter m and c',m,c)"
      ],
      "execution_count": 50,
      "outputs": [
        {
          "output_type": "stream",
          "name": "stdout",
          "text": [
            "model parameter m and c -9.94362973333622 232.25037578389103\n"
          ]
        }
      ]
    },
    {
      "cell_type": "markdown",
      "metadata": {
        "id": "FIHCK-552QYq"
      },
      "source": [
        "# ***Model Prediction On Training Data***"
      ]
    },
    {
      "cell_type": "code",
      "metadata": {
        "id": "uUxuSjF22ZLh"
      },
      "source": [
        "y_train_pred=[]\n",
        "for i in x_train:\n",
        "  y_pre_tr=m*i-c;\n",
        "  y_train_pred.append(y_pre_tr)\n",
        "y_train_pred=np.array(y_train_pred)"
      ],
      "execution_count": 40,
      "outputs": []
    },
    {
      "cell_type": "markdown",
      "metadata": {
        "id": "A1mTfK9a3DQI"
      },
      "source": [
        "***Model Prediction On Testing Data***"
      ]
    },
    {
      "cell_type": "code",
      "metadata": {
        "id": "kIq570X43Ia1"
      },
      "source": [
        "y_test_pred=[]\n",
        "for i in x_test:\n",
        "  y_tst_pre=m*i-c\n",
        "  y_test_pred.append(y_tst_pre)\n",
        "y_test_pred=np.array(y_test_pred)"
      ],
      "execution_count": 41,
      "outputs": []
    },
    {
      "cell_type": "markdown",
      "metadata": {
        "id": "m7qr-KNs3iyA"
      },
      "source": [
        "***Error Metrics Calculation***"
      ]
    },
    {
      "cell_type": "code",
      "metadata": {
        "colab": {
          "base_uri": "https://localhost:8080/"
        },
        "id": "zndaNx8Q3pro",
        "outputId": "25cc2286-f758-4fad-984e-cf72f4eb697b"
      },
      "source": [
        "import math\n",
        "from sklearn.metrics import mean_squared_error\n",
        "from sklearn.metrics import mean_absolute_error\n",
        "rmse=math.sqrt(mean_squared_error(y_train,y_train_pred))\n",
        "print(\"Root Mean Square error : \",rmse)\n",
        "mse=mean_squared_error(y_train,y_train_pred)\n",
        "print(\"Mean Squared error : \",mse)\n",
        "mae=mean_absolute_error(y_train,y_train_pred)\n",
        "print(\"Mean Absolute error: \",mae)"
      ],
      "execution_count": 42,
      "outputs": [
        {
          "output_type": "stream",
          "name": "stdout",
          "text": [
            "Root Mean Square error :  438.0812386350804\n",
            "Mean Squared error :  191915.1716440463\n",
            "Mean Absolute error:  435.2132676083608\n"
          ]
        }
      ]
    },
    {
      "cell_type": "code",
      "metadata": {
        "colab": {
          "base_uri": "https://localhost:8080/"
        },
        "id": "iqrtFvN05Asa",
        "outputId": "5b1100f6-3025-4bc5-ad74-29ece0c156c3"
      },
      "source": [
        "#Test data\n",
        "import math\n",
        "from sklearn.metrics import mean_squared_error\n",
        "from sklearn.metrics import mean_absolute_error\n",
        "rmse=math.sqrt(mean_squared_error(y_test,y_test_pred))\n",
        "print(\"Root Mean Square error : \",rmse)\n",
        "mse=mean_squared_error(y_test,y_test_pred)\n",
        "print(\"Mean Squared error : \",mse)\n",
        "mae=mean_absolute_error(y_test,y_test_pred)\n",
        "print(\"Mean Absolute error: \",mae)"
      ],
      "execution_count": 43,
      "outputs": [
        {
          "output_type": "stream",
          "name": "stdout",
          "text": [
            "Root Mean Square error :  470.09839728198233\n",
            "Mean Squared error :  220992.5031270885\n",
            "Mean Absolute error:  467.2108975640908\n"
          ]
        }
      ]
    },
    {
      "cell_type": "markdown",
      "metadata": {
        "id": "Q--izoKt5P5V"
      },
      "source": [
        "***Deployment***"
      ]
    },
    {
      "cell_type": "code",
      "metadata": {
        "id": "b8oIIS-N5SlO",
        "colab": {
          "base_uri": "https://localhost:8080/"
        },
        "outputId": "5b1f621d-1dad-47a1-91f0-b30d07feb71e"
      },
      "source": [
        "x=input(\"Enter pH value of well water: \")\n",
        "print(\"X = \",x)\n",
        "y=m*float(x)+c\n",
        "print(\"Bicarbonate level of well water: \",y)"
      ],
      "execution_count": 37,
      "outputs": [
        {
          "output_type": "stream",
          "name": "stdout",
          "text": [
            "Enter pH value of well water: 6.5\n",
            "X =  6.5\n",
            "Bicarbonate level of well water:  204.8205161318046\n"
          ]
        }
      ]
    }
  ]
}